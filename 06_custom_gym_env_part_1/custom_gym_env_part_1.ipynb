{
 "cells": [
  {
   "cell_type": "markdown",
   "id": "94d2124f-645c-49fd-9297-4b66967fde48",
   "metadata": {},
   "source": [
    "## Creating a custom `gym` environment for the Inventory Management problem: Part 1\n",
    "\n",
    "- `gym` has many ready made environments e.g. `CartPole-v1`\n",
    "\n",
    "<img src=\"images/cartpole.jpg\" width=\"300\"/>\n",
    "\n",
    "- There is no ready-made `gym` environment for the inventory management problem.\n",
    "\n",
    "<img src=\"images/shop.png\" width=\"300\"/>\n",
    "\n",
    "- We have to create a **custom `gym` environment** based on our knowledge of the states, actions, state transition and reward function.\n",
    "\n",
    "<img src=\"images/state_action_transition_rewards/state_action_transition_rewards.png\" width=\"1000\"/>"
   ]
  },
  {
   "cell_type": "code",
   "execution_count": null,
   "id": "82472759-3422-4d4b-84d6-6415c85915d4",
   "metadata": {},
   "outputs": [],
   "source": [
    "import gym\n",
    "\n",
    "\n",
    "class InventoryEnv(gym.Env):\n",
    "    def __init__(self):\n",
    "        \"\"\"\n",
    "        Must define self.observation_space and self.action_space here\n",
    "        \"\"\"\n",
    "        pass\n",
    "\n",
    "    def reset(self):\n",
    "        \"\"\"\n",
    "        Returns: the observation of the initial state\n",
    "        Reset the environment to initial state so that a new episode (independent of previous ones) may start\n",
    "        \"\"\"\n",
    "        raise NotImplementedError\n",
    "\n",
    "    def step(self, action):\n",
    "        \"\"\"\n",
    "        Returns: the next observation, the reward, done and optionally additional info\n",
    "        \"\"\"\n",
    "        raise NotImplementedError\n",
    "\n",
    "    def render(self, mode=\"human\"):\n",
    "        \"\"\"\n",
    "        Returns: None\n",
    "        Show the current environment state e.g. the graphical window in `CartPole-v1`\n",
    "        This method must be implemented, but it is OK to have an empty implementation if rendering is not\n",
    "        important\n",
    "        \"\"\"\n",
    "        pass\n",
    "\n",
    "    def close(self):\n",
    "        \"\"\"\n",
    "        Returns: None\n",
    "        This method is optional. Used to cleanup all resources (threads, graphical windows) etc.\n",
    "        \"\"\"\n",
    "        pass\n",
    "    \n",
    "    def seed(self, seed=None):\n",
    "        \"\"\"\n",
    "        Returns: List of seeds\n",
    "        This method is optional. Used to set seeds for the environment's random number generator for \n",
    "        obtaining deterministic behavior\n",
    "        \"\"\"\n",
    "        return"
   ]
  }
 ],
 "metadata": {
  "kernelspec": {
   "display_name": "Python 3 (ipykernel)",
   "language": "python",
   "name": "python3"
  },
  "language_info": {
   "codemirror_mode": {
    "name": "ipython",
    "version": 3
   },
   "file_extension": ".py",
   "mimetype": "text/x-python",
   "name": "python",
   "nbconvert_exporter": "python",
   "pygments_lexer": "ipython3",
   "version": "3.9.13"
  }
 },
 "nbformat": 4,
 "nbformat_minor": 5
}
