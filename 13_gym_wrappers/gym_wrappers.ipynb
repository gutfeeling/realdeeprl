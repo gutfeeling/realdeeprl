{
 "cells": [
  {
   "cell_type": "markdown",
   "id": "4157d395-8f1a-4df7-807a-fa115823ceec",
   "metadata": {
    "tags": []
   },
   "source": [
    "# How to use `gym` wrappers to modify environments\n",
    "\n",
    "## Example: Modify the stepwise reward in `CartPole-v1`\n",
    "\n",
    "<img src=\"images/cartpole.jpg\" width=\"300\"/>\n",
    "\n",
    "- The stepwise reward in `CartPole-v1` is 1 until any terminal state is reached."
   ]
  },
  {
   "cell_type": "code",
   "execution_count": 1,
   "id": "55ccc1a3-a6f7-44bf-b5f0-edfe666a1afb",
   "metadata": {},
   "outputs": [
    {
     "name": "stdout",
     "output_type": "stream",
     "text": [
      "reward is 1.0\n"
     ]
    }
   ],
   "source": [
    "import gym\n",
    "\n",
    "env = gym.make(\"CartPole-v1\")\n",
    "obs = env.reset()\n",
    "obs, r, done, _ = env.step(env.action_space.sample())\n",
    "print(f\"reward is {r}\")"
   ]
  },
  {
   "cell_type": "markdown",
   "id": "dab958ea-5f2e-4074-9f5a-7a47e95f1063",
   "metadata": {
    "tags": []
   },
   "source": [
    "## Modify `CartPole-v1`: Change the stepwise reward to 2 instead of 1\n",
    "\n",
    "**Solution: Write a `gym` wrapper.**"
   ]
  },
  {
   "cell_type": "code",
   "execution_count": 3,
   "id": "fe57dbca-d8bf-447e-b234-0bb002a15c76",
   "metadata": {
    "tags": []
   },
   "outputs": [],
   "source": [
    "class ScaleReward(gym.Wrapper):  # must inherit from gym.Wrapper\n",
    "    def __init__(self, env, scaling_factor=2):\n",
    "        super().__init__(env)\n",
    "        self.scaling_factor = scaling_factor\n",
    "        \n",
    "    def step(self, action):\n",
    "        obs, r, done, info = self.env.step(action)\n",
    "        r *= self.scaling_factor\n",
    "        return obs, r, done, info"
   ]
  },
  {
   "cell_type": "markdown",
   "id": "2d2746b3-6b8a-4ef9-9c0e-d2ea0e39c8df",
   "metadata": {
    "tags": []
   },
   "source": [
    "## How to use the `ScaleReward` wrapper"
   ]
  },
  {
   "cell_type": "code",
   "execution_count": 4,
   "id": "62029e0a-1528-435e-b9fe-28ce5916ccf5",
   "metadata": {},
   "outputs": [
    {
     "name": "stdout",
     "output_type": "stream",
     "text": [
      "reward is 2.0\n"
     ]
    }
   ],
   "source": [
    "original_env = gym.make(\"CartPole-v1\")\n",
    "double_reward_env = ScaleReward(env=original_env)\n",
    "obs = double_reward_env.reset()\n",
    "obs, r, done, _ = double_reward_env.step(double_reward_env.action_space.sample())\n",
    "print(f\"reward is {r}\")"
   ]
  },
  {
   "cell_type": "markdown",
   "id": "d6bb92e3-1a71-461a-a4b6-3f6eb4958196",
   "metadata": {
    "tags": []
   },
   "source": [
    "## Scaling rewards by any scaling factor"
   ]
  },
  {
   "cell_type": "code",
   "execution_count": 5,
   "id": "bc14a6a1-271e-4a18-9af6-61c73f26f6c9",
   "metadata": {},
   "outputs": [
    {
     "name": "stdout",
     "output_type": "stream",
     "text": [
      "reward is 3.0\n"
     ]
    }
   ],
   "source": [
    "# wrappers can accept arguments that changes its behavior.\n",
    "# The scaling_factor argument changes how the ScaleReward wrapper scales rewards\n",
    "triple_reward_env = ScaleReward(original_env, scaling_factor=3)  \n",
    "obs = triple_reward_env.reset()\n",
    "obs, r, done, _ = triple_reward_env.step(triple_reward_env.action_space.sample())\n",
    "print(f\"reward is {r}\")"
   ]
  },
  {
   "cell_type": "markdown",
   "id": "2e52dae1-afa9-4f0e-b696-ed55526c426e",
   "metadata": {
    "tags": []
   },
   "source": [
    "## How `gym.Wrapper`'s attributes and methods are mapped to the original environment\n",
    "\n",
    "<img src=\"images/wrapper/wrapper.png\" width=\"700\"/>\n",
    "\n",
    "- `original_env` and `gym.Wrapper(env=original_env)` behave identically."
   ]
  },
  {
   "cell_type": "code",
   "execution_count": null,
   "id": "f632d296-894e-47cc-80e6-f2058f165ccd",
   "metadata": {
    "tags": []
   },
   "outputs": [],
   "source": [
    "class ScaleReward(gym.Wrapper):\n",
    "    def __init__(self, env, scaling_factor=2):\n",
    "        super().__init__(env)\n",
    "        self.scaling_factor = scaling_factor\n",
    "    \n",
    "    def step(self, action):\n",
    "        obs, r, done, info = self.env.step(action)\n",
    "        r *= self.scaling_factor\n",
    "        return obs, r, done, info"
   ]
  },
  {
   "cell_type": "markdown",
   "id": "c3f1a970-43e8-4192-a30c-2e88a48ca7b1",
   "metadata": {
    "tags": []
   },
   "source": [
    "## wrappers can be chained\n",
    "\n",
    "- Since wrapped environments behave like any other `gym` env, you can pass a wrapped environment to a wrapper.\n",
    "\n",
    "```\n",
    "double_wrapped_env = wrapper(env=wrapped_env)\n",
    "```\n",
    "- This way, you can make progressive modifications to any environment"
   ]
  },
  {
   "cell_type": "code",
   "execution_count": 7,
   "id": "b2c5a41b-5e0a-4f68-a73d-7a3595ac087b",
   "metadata": {},
   "outputs": [
    {
     "name": "stdout",
     "output_type": "stream",
     "text": [
      "reward is 6.0\n"
     ]
    }
   ],
   "source": [
    "double_wrapped_env = ScaleReward(ScaleReward(original_env, scaling_factor=2), scaling_factor=3)\n",
    "obs = double_wrapped_env.reset()\n",
    "obs, r, done, _ = double_wrapped_env.step(double_wrapped_env.action_space.sample())\n",
    "print(f\"reward is {r}\")"
   ]
  },
  {
   "cell_type": "code",
   "execution_count": null,
   "id": "6872b300-d0ee-4da0-8b74-16a1def52f03",
   "metadata": {},
   "outputs": [],
   "source": []
  }
 ],
 "metadata": {
  "kernelspec": {
   "display_name": "Python 3 (ipykernel)",
   "language": "python",
   "name": "python3"
  },
  "language_info": {
   "codemirror_mode": {
    "name": "ipython",
    "version": 3
   },
   "file_extension": ".py",
   "mimetype": "text/x-python",
   "name": "python",
   "nbconvert_exporter": "python",
   "pygments_lexer": "ipython3",
   "version": "3.9.13"
  }
 },
 "nbformat": 4,
 "nbformat_minor": 5
}
