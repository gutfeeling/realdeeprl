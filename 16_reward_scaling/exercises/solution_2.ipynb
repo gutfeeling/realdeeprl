{
 "cells": [
  {
   "cell_type": "code",
   "execution_count": 2,
   "id": "498fcb69-f294-45fd-9617-dc91f50a8c86",
   "metadata": {},
   "outputs": [],
   "source": [
    "import gym\n",
    "\n",
    "\n",
    "class MyScaleReward(gym.RewardWrapper):\n",
    "    def reward(self, reward):\n",
    "        avg_unit_selling_price = self.env.max_unit_selling_price / 2\n",
    "        avg_num_items_bought_per_day = avg_num_items_sold_per_day = self.env.max_mean_daily_demand / 2\n",
    "        avg_unit_buying_price = self.env.max_unit_selling_price / 4\n",
    "        avg_daily_holding_cost_per_unit = self.env.max_daily_holding_cost_per_unit / 2\n",
    "        avg_num_items_held_per_day = self.env.max_mean_daily_demand / 2\n",
    "        # ----- SOLUTION ------ #\n",
    "        # goodwill_penalty_per_unit is chosen randomly from an uniform distribution over (0, max value).\n",
    "        # Therefore, the average is half of the max value.\n",
    "        avg_goodwill_penalty_per_unit = self.env.max_goodwill_penalty_per_unit / 2\n",
    "        # ----- SOLUTION ----- #\n",
    "        # Unmet demand is max(0, demand - on hand inventory)\n",
    "        # Since average value of demand and on hand inventory are both ~ max demand / 2, a rough \n",
    "        # approximation for average unmet demand is max demand / 4.\n",
    "        avg_unmet_demand = self.env.max_mean_daily_demand / 4\n",
    "        avg_high_scale = avg_unit_selling_price * avg_num_items_sold_per_day\n",
    "        # ----- SOLUTION ----- #\n",
    "        # Adjust the low scale to account for goodwill penalty\n",
    "        avg_low_scale = - (avg_unit_buying_price * avg_num_items_bought_per_day +\n",
    "                           avg_daily_holding_cost_per_unit * avg_num_items_held_per_day +\n",
    "                           avg_goodwill_penalty_per_unit * avg_unmet_demand\n",
    "                           )\n",
    "        mid = (avg_high_scale + avg_low_scale) / 2\n",
    "        linearly_mapped_reward = 2 * (reward - mid) / (avg_high_scale - avg_low_scale)\n",
    "        return np.arctan(linearly_mapped_reward) / np.arctan(1)"
   ]
  }
 ],
 "metadata": {
  "kernelspec": {
   "display_name": "Python 3 (ipykernel)",
   "language": "python",
   "name": "python3"
  },
  "language_info": {
   "codemirror_mode": {
    "name": "ipython",
    "version": 3
   },
   "file_extension": ".py",
   "mimetype": "text/x-python",
   "name": "python",
   "nbconvert_exporter": "python",
   "pygments_lexer": "ipython3",
   "version": "3.9.13"
  }
 },
 "nbformat": 4,
 "nbformat_minor": 5
}
