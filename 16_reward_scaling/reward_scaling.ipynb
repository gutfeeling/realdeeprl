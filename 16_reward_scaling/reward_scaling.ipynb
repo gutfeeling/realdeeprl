{
 "cells": [
  {
   "cell_type": "markdown",
   "id": "04adced0-e9e0-40ca-ae7e-2a92a2d8e9f8",
   "metadata": {},
   "source": [
    "## RL algos work better/faster when rewards are non-sparse and have low variance\n",
    "\n",
    "| Variable | Good variance | Acceptable variance | Bad |\n",
    "| --- | --- | --- | --- |\n",
    "| rewards | 1 | 10 | 1000 |\n",
    "\n",
    "### Variance of stepwise rewards in `InventoryEnv` (calculated over 10000 episodes)"
   ]
  },
  {
   "cell_type": "code",
   "execution_count": 1,
   "id": "e44ff12f-c51d-4f0f-b0cc-0ebae368e2cf",
   "metadata": {
    "tags": []
   },
   "outputs": [
    {
     "name": "stderr",
     "output_type": "stream",
     "text": [
      "/home/dibya/miniconda3/envs/real_world_deep_rl_course_cpu/lib/python3.9/site-packages/gym/spaces/box.py:73: UserWarning: \u001b[33mWARN: Box bound precision lowered by casting to float32\u001b[0m\n",
      "  logger.warn(\n"
     ]
    },
    {
     "name": "stdout",
     "output_type": "stream",
     "text": [
      "Variance of stepwise rewards is: 133809964.03725684\n"
     ]
    }
   ],
   "source": [
    "from inventory_env.inventory_env import InventoryEnv\n",
    "import numpy as np\n",
    "\n",
    "env = InventoryEnv()\n",
    "rewards = []\n",
    "for _ in range(10000):\n",
    "    obs = env.reset()\n",
    "    while True:\n",
    "        obs, r, done, _ = env.step(env.action_space.sample())\n",
    "        rewards.append(r)\n",
    "        if done:\n",
    "            break\n",
    "print(f\"Variance of stepwise rewards is: {np.var(np.array(rewards))}\")"
   ]
  },
  {
   "cell_type": "markdown",
   "id": "9b59b714-f9e4-4057-b9b2-8a977df7a537",
   "metadata": {},
   "source": [
    "<img src=\"images/state_action_transition_rewards.png\" width=\"1000\"/>"
   ]
  },
  {
   "cell_type": "code",
   "execution_count": 3,
   "id": "45c6f8d7-2c22-4d50-adcd-d824fde5935e",
   "metadata": {
    "tags": []
   },
   "outputs": [
    {
     "name": "stdout",
     "output_type": "stream",
     "text": [
      "upper bound: 400000\n",
      "lower bound: -420000\n"
     ]
    }
   ],
   "source": [
    "# max_capacity: 4000, max_unit_selling_price: 100, max_daily_holding_cost_per_unit: 5\n",
    "upper_bound = 100 * 4000\n",
    "print(f\"upper bound: {upper_bound}\")\n",
    "lower_bound = - 100 * 4000 - 5 * 4000\n",
    "print(f\"lower bound: {lower_bound}\")"
   ]
  },
  {
   "cell_type": "markdown",
   "id": "5769d987-05b8-423f-a42b-39799ade9860",
   "metadata": {},
   "source": [
    "<img src=\"images/reward_scaling/1.png\" width=\"1000\"/>\n",
    "\n",
    "### We need a way to compress the range\n",
    "\n",
    "#### Option 1: Linear map\n",
    "\n",
    "<img src=\"images/reward_scaling/2.png\" width=\"1000\"/>\n",
    "\n",
    "#### Option 2: `arctan` map\n",
    "\n",
    "<img src=\"images/reward_scaling/3.png\" width=\"1000\"/>\n",
    "\n",
    "#### Map the most frequented range to the nearly linear part of `arctan`\n",
    "\n",
    "<img src=\"images/reward_scaling/4.png\" width=\"1000\"/>\n",
    "\n",
    "To calculate the average high and low scales, we will assume the following:\n",
    "\n",
    "- num item sold to customers: `max_mean_daily_demand / 2`\n",
    "- num item bought: `max_mean_daily_demand / 2`\n",
    "- price at which item is sold: `max_unit_selling_price / 2`\n",
    "- price at which item is bought: `max_unit_selling_price / 4`\n",
    "- daily holding cost per unit: `max_daily_holding_cost_per_unit / 2`\n",
    "- num items held: `max_mean_daily_demand / 2`"
   ]
  },
  {
   "cell_type": "markdown",
   "id": "446e2bdc-99f4-40e6-a14c-3abba1e26014",
   "metadata": {},
   "source": [
    "### Variance of stepwise rewards in the wrapped environment"
   ]
  },
  {
   "cell_type": "code",
   "execution_count": 3,
   "id": "7fe7dd76-b32b-4117-a7be-d6ea4a60d656",
   "metadata": {},
   "outputs": [
    {
     "name": "stdout",
     "output_type": "stream",
     "text": [
      "Variance of stepwise rewards is: 0.6341989861289701\n"
     ]
    }
   ],
   "source": [
    "import numpy as np\n",
    "\n",
    "from inventory_env.inventory_env import InventoryEnv\n",
    "from inventory_env.wrappers import MyScaleReward\n",
    "\n",
    "env = MyScaleReward(InventoryEnv())\n",
    "rewards = []\n",
    "for _ in range(10000):\n",
    "    obs = env.reset()\n",
    "    while True:\n",
    "        obs, r, done, _ = env.step(env.action_space.sample())\n",
    "        rewards.append(r)\n",
    "        if done:\n",
    "            break\n",
    "print(f\"Variance of stepwise rewards is: {np.var(np.array(rewards))}\")"
   ]
  },
  {
   "cell_type": "markdown",
   "id": "c8063b30-b739-4f74-aca3-c2395adbdeef",
   "metadata": {},
   "source": [
    "### Summary\n",
    "\n",
    "- Reducing the variance of stepwise rewards helps the RL algorithms to learn faster.\n",
    "- The main idea is **not** `arctan`; this was just an example. The important idea is to try various ways to reduce variance and run experiments to see how the agent performs with these various methods.\n",
    "- Sometimes, very simple methods are effective. Deepmind used `np.clip()` to reduce the variance of rewards in their famous Atari playing Deep RL agent. It worked very well for that specific problem.\n",
    "- Try to ensure a monotonic transformation i.e. if $r_1 \\le r_2$, then $f(r_1) \\le f(r_2)$."
   ]
  }
 ],
 "metadata": {
  "kernelspec": {
   "display_name": "Python 3 (ipykernel)",
   "language": "python",
   "name": "python3"
  },
  "language_info": {
   "codemirror_mode": {
    "name": "ipython",
    "version": 3
   },
   "file_extension": ".py",
   "mimetype": "text/x-python",
   "name": "python",
   "nbconvert_exporter": "python",
   "pygments_lexer": "ipython3",
   "version": "3.9.13"
  }
 },
 "nbformat": 4,
 "nbformat_minor": 5
}
