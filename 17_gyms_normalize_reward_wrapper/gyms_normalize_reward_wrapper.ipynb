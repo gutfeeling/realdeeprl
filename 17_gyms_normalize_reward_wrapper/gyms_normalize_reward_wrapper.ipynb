{
 "cells": [
  {
   "cell_type": "markdown",
   "id": "b43fce94-7a15-4b64-92b0-158e5b739ace",
   "metadata": {},
   "source": [
    "# Gym's `NormalizeReward` wrapper\n",
    "\n",
    "- Remember `gym`'s `NormalizeObservation` wrapper, which normalized observations by using moving averages?\n",
    "- Similarly, `gym` also offers a `NormalizeReward` wrapper which normalizes stepwise rewards using the *exponential moving average* of the stepwise rewards."
   ]
  },
  {
   "cell_type": "code",
   "execution_count": 1,
   "id": "b3bd395e-e04d-4654-b634-14d206529747",
   "metadata": {},
   "outputs": [
    {
     "name": "stderr",
     "output_type": "stream",
     "text": [
      "/home/dibya/miniconda3/envs/real_world_deep_rl_course_cpu/lib/python3.9/site-packages/gym/spaces/box.py:73: UserWarning: \u001b[33mWARN: Box bound precision lowered by casting to float32\u001b[0m\n",
      "  logger.warn(\n"
     ]
    },
    {
     "name": "stdout",
     "output_type": "stream",
     "text": [
      "Variance of stepwise rewards is: 0.013372251608668163\n"
     ]
    }
   ],
   "source": [
    "# import the Normalize Reward\n",
    "from gym.wrappers import NormalizeReward\n",
    "import numpy as np\n",
    "\n",
    "from inventory_env.inventory_env import InventoryEnv\n",
    "\n",
    "# Wrapping the InventoryEnv with the NormalizeReward wrapper\n",
    "env = NormalizeReward(InventoryEnv())\n",
    "rewards = []\n",
    "for _ in range(10000):\n",
    "    obs = env.reset()\n",
    "    while True:\n",
    "        obs, r, done, _ = env.step(env.action_space.sample())\n",
    "        rewards.append(r)\n",
    "        if done:\n",
    "            break\n",
    "print(f\"Variance of stepwise rewards is: {np.var(np.array(rewards))}\")"
   ]
  }
 ],
 "metadata": {
  "kernelspec": {
   "display_name": "Python 3 (ipykernel)",
   "language": "python",
   "name": "python3"
  },
  "language_info": {
   "codemirror_mode": {
    "name": "ipython",
    "version": 3
   },
   "file_extension": ".py",
   "mimetype": "text/x-python",
   "name": "python",
   "nbconvert_exporter": "python",
   "pygments_lexer": "ipython3",
   "version": "3.9.13"
  }
 },
 "nbformat": 4,
 "nbformat_minor": 5
}
