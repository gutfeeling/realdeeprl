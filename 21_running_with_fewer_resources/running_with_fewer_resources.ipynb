{
 "cells": [
  {
   "cell_type": "markdown",
   "id": "af49b736-1177-4485-a23b-fbe4ffb95a3a",
   "metadata": {},
   "source": [
    "## Running with fewer resources\n",
    "\n",
    "### How experience collection and training is done in `rllib`\n",
    "\n",
    "<img src=\"images/rllib_resources.svg\" width=\"700\"/>"
   ]
  },
  {
   "cell_type": "markdown",
   "id": "e9d0158d-734e-4eab-9d7d-b87a566c6386",
   "metadata": {},
   "source": [
    "## Resources required\n",
    "\n",
    "| Component | Num. per experiment (default) | Num. CPU cores | Num. CPU cores given 9 exp. in parallel |\n",
    "| --- | --- | --- | --- |\n",
    "| `RolloutWorker` | 0 | 0 | 0 x 9 = 0 |\n",
    "| `Trainer` | 1 | 1 | 1 x 9 = 9 |\n",
    "| Total CPU cores  | | |  9 |"
   ]
  }
 ],
 "metadata": {
  "kernelspec": {
   "display_name": "Python 3 (ipykernel)",
   "language": "python",
   "name": "python3"
  },
  "language_info": {
   "codemirror_mode": {
    "name": "ipython",
    "version": 3
   },
   "file_extension": ".py",
   "mimetype": "text/x-python",
   "name": "python",
   "nbconvert_exporter": "python",
   "pygments_lexer": "ipython3",
   "version": "3.9.13"
  }
 },
 "nbformat": 4,
 "nbformat_minor": 5
}
