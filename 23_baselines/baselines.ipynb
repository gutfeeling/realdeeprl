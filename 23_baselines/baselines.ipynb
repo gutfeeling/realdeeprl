{
 "cells": [
  {
   "cell_type": "markdown",
   "id": "1295210a-d842-412c-b4cf-f7d10e1c060f",
   "metadata": {},
   "source": [
    "## Performance target: beat the classical baseline\n",
    "\n",
    "### What is the classical baseline?\n",
    "\n",
    "- Best performance achievable using classical methods (i.e. non ML techniques)"
   ]
  },
  {
   "cell_type": "code",
   "execution_count": 2,
   "id": "cbb39c84-19d4-41f5-8ece-3ef7f0d94d38",
   "metadata": {
    "tags": []
   },
   "outputs": [
    {
     "name": "stdout",
     "output_type": "stream",
     "text": [
      "174360.77630784345\n"
     ]
    }
   ],
   "source": [
    "import numpy as np\n",
    "\n",
    "from inventory_env.inventory_env import InventoryEnv, classical_baseline_action\n",
    "\n",
    "env = InventoryEnv()\n",
    "num_episodes = 100000\n",
    "all_r = []\n",
    "for _ in range(num_episodes):\n",
    "    obs = env.reset()\n",
    "    ep_r = 0\n",
    "    while True:\n",
    "        action = classical_baseline_action(obs)\n",
    "        obs, r, done, _ = env.step(np.around(action))\n",
    "        ep_r += r\n",
    "        if done:\n",
    "            break\n",
    "    all_r.append(ep_r)\n",
    "baseline = sum(all_r) / num_episodes\n",
    "print(baseline)"
   ]
  },
  {
   "cell_type": "code",
   "execution_count": 5,
   "id": "f830ec3c-04a2-467d-9421-e802f755e3ba",
   "metadata": {
    "tags": []
   },
   "outputs": [
    {
     "name": "stdout",
     "output_type": "stream",
     "text": [
      "174583.1010589181\n"
     ]
    }
   ],
   "source": [
    "import numpy as np\n",
    "\n",
    "from inventory_env.inventory_env import InventoryEnv, classical_baseline_action\n",
    "\n",
    "env = InventoryEnv()\n",
    "num_episodes = 100000\n",
    "all_r = []\n",
    "for _ in range(num_episodes):\n",
    "    obs = env.reset()\n",
    "    ep_r = 0\n",
    "    while True:\n",
    "        action = classical_baseline_action(obs)\n",
    "        obs, r, done, _ = env.step(np.around(action))\n",
    "        ep_r += r\n",
    "        if done:\n",
    "            break\n",
    "    all_r.append(ep_r)\n",
    "baseline = sum(all_r) / num_episodes\n",
    "print(baseline)"
   ]
  },
  {
   "cell_type": "markdown",
   "id": "1ce0239b-b573-4390-acc5-42aa5b8ffc38",
   "metadata": {},
   "source": [
    "## Reproducible classical baseline using `env.seed()`"
   ]
  },
  {
   "cell_type": "code",
   "execution_count": 3,
   "id": "19c971d7-488f-4eef-ad37-2a6778f2f096",
   "metadata": {
    "tags": []
   },
   "outputs": [
    {
     "name": "stdout",
     "output_type": "stream",
     "text": [
      "175078.67432675502\n"
     ]
    }
   ],
   "source": [
    "import numpy as np\n",
    "\n",
    "from inventory_env.inventory_env import InventoryEnv, classical_baseline_action\n",
    "\n",
    "env = InventoryEnv()\n",
    "env.seed(seed=0)\n",
    "num_episodes = 100000\n",
    "all_r = []\n",
    "for _ in range(num_episodes):\n",
    "    obs = env.reset()\n",
    "    ep_r = 0\n",
    "    while True:\n",
    "        action = classical_baseline_action(obs)\n",
    "        obs, r, done, _ = env.step(np.around(action))\n",
    "        ep_r += r\n",
    "        if done:\n",
    "            break\n",
    "    all_r.append(ep_r)\n",
    "baseline = sum(all_r) / num_episodes\n",
    "print(baseline)"
   ]
  },
  {
   "cell_type": "code",
   "execution_count": 4,
   "id": "c44b789f-c95b-4c76-9b5a-34a30f1b227e",
   "metadata": {},
   "outputs": [
    {
     "name": "stdout",
     "output_type": "stream",
     "text": [
      "175078.67432675502\n"
     ]
    }
   ],
   "source": [
    "import numpy as np\n",
    "\n",
    "from inventory_env.inventory_env import InventoryEnv, classical_baseline_action\n",
    "\n",
    "env = InventoryEnv()\n",
    "env.seed(seed=0)\n",
    "num_episodes = 100000\n",
    "all_r = []\n",
    "for _ in range(num_episodes):\n",
    "    obs = env.reset()\n",
    "    ep_r = 0\n",
    "    while True:\n",
    "        action = classical_baseline_action(obs)\n",
    "        obs, r, done, _ = env.step(np.around(action))\n",
    "        ep_r += r\n",
    "        if done:\n",
    "            break\n",
    "    all_r.append(ep_r)\n",
    "baseline = sum(all_r) / num_episodes\n",
    "print(baseline)"
   ]
  }
 ],
 "metadata": {
  "kernelspec": {
   "display_name": "Python 3 (ipykernel)",
   "language": "python",
   "name": "python3"
  },
  "language_info": {
   "codemirror_mode": {
    "name": "ipython",
    "version": 3
   },
   "file_extension": ".py",
   "mimetype": "text/x-python",
   "name": "python",
   "nbconvert_exporter": "python",
   "pygments_lexer": "ipython3",
   "version": "3.9.13"
  }
 },
 "nbformat": 4,
 "nbformat_minor": 5
}
