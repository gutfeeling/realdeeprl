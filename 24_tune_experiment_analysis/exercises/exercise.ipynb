{
 "cells": [
  {
   "cell_type": "markdown",
   "id": "4db5dbed-fe4d-43fc-b965-4da07450adb8",
   "metadata": {},
   "source": [
    "# Compute the classical baseline performance in the hard inventory management problem and compare that with the best agent's performance\n",
    "\n",
    "## Setup \n",
    "\n",
    "Please follow the setup in https://courses.dibya.online/courses/realdeeprl/lectures/52669136\n",
    "\n",
    "In the `exercises/inventory_env_hard/utils.py` file, you will find the `classical_baseline_action()` function: This function accepts a state in the hard inventory management problem as an argument, and returns the classical baseline action. You can use this function for computing the classical baseline performance.\n",
    "\n",
    "## Your task\n",
    "\n",
    "1. Compute the classical baseline in the hard inventory management environment. Use 100000 episodes to get a good estimate.\n",
    "2. Restore the best agent (from your experiments so far) and compute the average performance over 100000 episodes. Use the same seed that you used for the classical baseline computation. \n",
    "\n",
    "Did your agent beat the baseline already or do we need more improvements?"
   ]
  },
  {
   "cell_type": "code",
   "execution_count": 1,
   "id": "0858286e-dc09-4bcc-99e5-bc19a57d5fd7",
   "metadata": {},
   "outputs": [],
   "source": [
    "from inventory_env_hard.utils import classical_baseline_action\n",
    "\n",
    "# Your code goes here"
   ]
  }
 ],
 "metadata": {
  "kernelspec": {
   "display_name": "Python 3 (ipykernel)",
   "language": "python",
   "name": "python3"
  },
  "language_info": {
   "codemirror_mode": {
    "name": "ipython",
    "version": 3
   },
   "file_extension": ".py",
   "mimetype": "text/x-python",
   "name": "python",
   "nbconvert_exporter": "python",
   "pygments_lexer": "ipython3",
   "version": "3.9.13"
  }
 },
 "nbformat": 4,
 "nbformat_minor": 5
}
