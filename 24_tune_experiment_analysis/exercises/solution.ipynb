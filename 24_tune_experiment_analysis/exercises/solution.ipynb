{
 "cells": [
  {
   "cell_type": "markdown",
   "id": "f1574dbc-f191-4dbd-862e-08da8dbff353",
   "metadata": {},
   "source": [
    "The classical baseline is computed in the cell below."
   ]
  },
  {
   "cell_type": "code",
   "execution_count": 1,
   "id": "0e06ec74-905a-4585-b2d0-dbb98f93b68b",
   "metadata": {},
   "outputs": [
    {
     "name": "stderr",
     "output_type": "stream",
     "text": [
      "/home/dibya/miniconda3/envs/real_world_deep_rl_course_cpu/lib/python3.9/site-packages/gym/spaces/box.py:73: UserWarning: \u001b[33mWARN: Box bound precision lowered by casting to float32\u001b[0m\n",
      "  logger.warn(\n"
     ]
    },
    {
     "name": "stdout",
     "output_type": "stream",
     "text": [
      "168462.89666968363\n"
     ]
    }
   ],
   "source": [
    "import numpy as np\n",
    "\n",
    "from inventory_env_hard.env_creator import inventory_env_hard_creator\n",
    "from inventory_env_hard.utils import classical_baseline_action\n",
    "\n",
    "env = inventory_env_hard_creator(config={}, seed=0)\n",
    "num_episodes = 100000\n",
    "all_r = []\n",
    "for _ in range(num_episodes):\n",
    "    obs = env.reset()\n",
    "    ep_r = 0\n",
    "    while True:\n",
    "        action = classical_baseline_action(obs)\n",
    "        obs, r, done, _ = env.step(np.around(action))\n",
    "        ep_r += r\n",
    "        if done:\n",
    "            break\n",
    "    all_r.append(ep_r)\n",
    "baseline = sum(all_r) / num_episodes\n",
    "print(baseline)"
   ]
  },
  {
   "cell_type": "markdown",
   "id": "3675a5d8-dfb2-4fcf-83b5-fb890f929426",
   "metadata": {},
   "source": [
    "Here's how you restore your best agent"
   ]
  },
  {
   "cell_type": "code",
   "execution_count": null,
   "id": "8f1ca66a-b50d-4821-bafb-99421afa0f85",
   "metadata": {},
   "outputs": [],
   "source": [
    "from pathlib import Path\n",
    "\n",
    "from ray.rllib.agents.ppo import PPOTrainer\n",
    "from ray.tune import ExperimentAnalysis\n",
    "from ray.tune.registry import register_env\n",
    "\n",
    "from inventory_env_hard.env_creator import inventory_env_hard_creator\n",
    "\n",
    "register_env(\"inventory_env_hard\", inventory_env_hard_creator)\n",
    "\n",
    "# Here you need to use the path to the Ray Tune results dir on YOUR COMPUTER\n",
    "path_to_results_dir = Path().absolute().parents[1] / \"exercises\" / \"solutions\" / \"experiment_results\" / \"experiment_many_samples\"\n",
    "analysis = ExperimentAnalysis(path_to_results_dir, default_metric=\"evaluation/episode_reward_mean\", default_mode=\"max\")\n",
    "best_trial = analysis.get_best_trial(scope=\"all\")\n",
    "best_checkpoint = analysis.get_best_checkpoint(best_trial)\n",
    "config = best_trial.config\n",
    "agent = PPOTrainer(config=config)\n",
    "agent.restore(best_checkpoint)"
   ]
  },
  {
   "cell_type": "markdown",
   "id": "bd40d77b-1617-44ed-b1b9-9fa22dd8d23b",
   "metadata": {},
   "source": [
    "Then compute the agent's performance and compare with the baseline."
   ]
  },
  {
   "cell_type": "code",
   "execution_count": null,
   "id": "8f823b47-7c82-44b8-aa6a-793de95498eb",
   "metadata": {},
   "outputs": [],
   "source": [
    "# Remember to use the exact same observation wrapper that the restored agent used during training\n",
    "# This may be different in your case\n",
    "env = inventory_env_hard_creator(\n",
    "    {\n",
    "        \"obs_filter\": \"my_normalize\",    \n",
    "        \"reward_filter\": None, \n",
    "    }, \n",
    "    seed=0\n",
    ")\n",
    "num_episodes = 100000\n",
    "all_r = []\n",
    "for _ in range(num_episodes):\n",
    "    obs = env.reset()\n",
    "    ep_r = 0\n",
    "    while True:\n",
    "        action = agent.compute_action(obs, unsquash_action=True)\n",
    "        obs, r, done, _ = env.step(np.around(action))\n",
    "        ep_r += r\n",
    "        if done:\n",
    "            break\n",
    "    all_r.append(ep_r)\n",
    "baseline = sum(all_r) / num_episodes\n",
    "print(baseline)"
   ]
  }
 ],
 "metadata": {
  "kernelspec": {
   "display_name": "Python 3 (ipykernel)",
   "language": "python",
   "name": "python3"
  },
  "language_info": {
   "codemirror_mode": {
    "name": "ipython",
    "version": 3
   },
   "file_extension": ".py",
   "mimetype": "text/x-python",
   "name": "python",
   "nbconvert_exporter": "python",
   "pygments_lexer": "ipython3",
   "version": "3.9.13"
  }
 },
 "nbformat": 4,
 "nbformat_minor": 5
}
