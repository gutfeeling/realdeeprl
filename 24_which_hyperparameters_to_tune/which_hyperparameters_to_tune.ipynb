{
 "cells": [
  {
   "cell_type": "markdown",
   "id": "1862241e-622b-4110-9d39-dcc9e77d73b9",
   "metadata": {},
   "source": [
    "## Which hyperparameters to tune?\n",
    "\n",
    "- Choosing wrappers was enough in the inventory management problem.\n",
    "- In other problems, wrappers alone may not lead to success.\n",
    "\n",
    "### Hyperparameter tuning\n",
    "\n",
    "- Deep RL algorithms (like PPO) have hyperparameters\n",
    "\n",
    "#### Hyperparameters in Deep Learning\n",
    "\n",
    "- Network size of a fully connected network\n",
    "- Learning rate\n",
    "- Activation function\n",
    "- Optimizer (e.g. vanilla SGD, RMSProp, ADAM etc.)\n",
    "\n",
    "| Hyperparameter | `rllib` default value | `stable-baselines3` name | search space |\n",
    "| --- | --- | --- | --- |\n",
    "| **Model hyperparams** | | | |\n",
    "| `fcnet_hiddens`    | `[256, 256]` | `net_arch` | `[[64, 64], [256, 256]]` |\n",
    "| `fcnet_activation` | `\"tanh\"`   | `activation_fn` | `[\"tanh\", \"relu\"]` |\n",
    "| **SGD hyperparams** | | | |\n",
    "| `train_batch_size` | `4000` | `n_steps` | `[8, 16, 32, 64, 128, 256, 512, 1024, 2048]` |\n",
    "| `sgd_minibatch_size` | `128` | `batch_size` | `[8, 16, 32, 64, 128, 256, 512]` |\n",
    "| `num_sgd_iter` | `30` | `n_epochs` | `[1, 5, 10, 20]` |\n",
    "| `lr` | `5e-5` | `learning_rate` | `[1e-3, 5e-4, 1e-4, 5e-5, 1e-5]` |\n",
    "| **Common RL hyperparams** | | | |\n",
    "| `gamma` | `0.99` | `gamma` | `[0.9, 0.95, 0.98, 0.99, 0.995, 0.999, 0.9999]` |\n",
    "| `exploration_config` $\\rightarrow$ `type` | `\"StochasticSampling\"` | | |\n",
    "| **Algorithm specific hyperparams** | | |\n",
    "| `clip_param` | `0.3` | `clip_range` | `[0.1, 0.2, 0.3, 0.4]` |\n",
    "| `kl_coeff` | `0.2` | | |\n",
    "| `kl_target` | `0.01` | | |\n",
    "| `lambda` | `1.0` | `gae_lambda` | `[0.8, 0.9, 0.92, 0.95, 0.98, 0.99, 1.0]` |\n",
    "| `vf_loss_coeff` | `1.0` | `vf_coef` | |\n",
    "| `vf_clip_param` | `10.0` | | |\n",
    "| `entropy_coeff` | `0.0` | `ent_coef` | `loguniform(0.00000001, 0.1)` |\n",
    "\n",
    "- default values may not be optimal for learning in a particular environment.\n",
    "- hyperparameter tuning might give us a boost in performance."
   ]
  },
  {
   "cell_type": "markdown",
   "id": "1a9781b8-0875-4aae-95a0-433dff560c6c",
   "metadata": {},
   "source": []
  }
 ],
 "metadata": {
  "kernelspec": {
   "display_name": "Python 3 (ipykernel)",
   "language": "python",
   "name": "python3"
  },
  "language_info": {
   "codemirror_mode": {
    "name": "ipython",
    "version": 3
   },
   "file_extension": ".py",
   "mimetype": "text/x-python",
   "name": "python",
   "nbconvert_exporter": "python",
   "pygments_lexer": "ipython3",
   "version": "3.9.13"
  }
 },
 "nbformat": 4,
 "nbformat_minor": 5
}
