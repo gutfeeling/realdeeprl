{
 "cells": [
  {
   "cell_type": "markdown",
   "id": "7b0ade03-de79-45ed-bc41-1ea6a8a56399",
   "metadata": {},
   "source": [
    "## Population Based Training (PBT): A time- and resource-efficient hyperparameter tuning technique\n",
    "\n",
    "- PBT is an **evolutionary method**\n",
    "- It uses the principle of *survival of the fittest* to find the best hyperparameters\n",
    "\n",
    "<img src=\"images/pbt.png\" width=\"800\" />"
   ]
  },
  {
   "cell_type": "markdown",
   "id": "ee3a1fdd-0157-44e1-9522-d1ebb993c152",
   "metadata": {},
   "source": [
    "### Adaptive hyperparameter schedules\n",
    "\n",
    "Lowering learning rate as training progresses leads to more stable training\n",
    "\n",
    "<img src=\"images/lr_schedule.png\" width=\"500\" /> <img src=\"images/pbt_adaptive_lr.png\" width=\"500\" />"
   ]
  },
  {
   "cell_type": "code",
   "execution_count": null,
   "id": "a44e5590-9645-4197-ab22-40d7cccd55c9",
   "metadata": {},
   "outputs": [],
   "source": []
  }
 ],
 "metadata": {
  "kernelspec": {
   "display_name": "Python 3 (ipykernel)",
   "language": "python",
   "name": "python3"
  },
  "language_info": {
   "codemirror_mode": {
    "name": "ipython",
    "version": 3
   },
   "file_extension": ".py",
   "mimetype": "text/x-python",
   "name": "python",
   "nbconvert_exporter": "python",
   "pygments_lexer": "ipython3",
   "version": "3.9.13"
  }
 },
 "nbformat": 4,
 "nbformat_minor": 5
}
