{
 "cells": [
  {
   "cell_type": "markdown",
   "id": "850e7e82-093e-41e9-8458-8746c71f9b85",
   "metadata": {},
   "source": [
    "## Choosing the best checkpoint from the PBT trials"
   ]
  },
  {
   "cell_type": "code",
   "execution_count": 1,
   "id": "aa58c009-f18d-4346-a666-2361f36a219d",
   "metadata": {},
   "outputs": [
    {
     "name": "stderr",
     "output_type": "stream",
     "text": [
      "2023-08-10 20:35:08,361\tWARNING deprecation.py:45 -- DeprecationWarning: `evaluation_num_episodes` has been deprecated. Use ``evaluation_duration` and `evaluation_duration_unit=episodes`` instead. This will raise an error in the future!\n",
      "2023-08-10 20:35:08,362\tWARNING ppo.py:223 -- `train_batch_size` (2048) cannot be achieved with your other settings (num_workers=2 num_envs_per_worker=1 rollout_fragment_length=200)! Auto-adjusting `rollout_fragment_length` to 1024.\n",
      "\u001b[2m\u001b[36m(RolloutWorker pid=12347)\u001b[0m /home/dibya/miniconda3/envs/real_world_deep_rl_cpu/lib/python3.9/site-packages/gym/spaces/box.py:73: UserWarning: \u001b[33mWARN: Box bound precision lowered by casting to float32\u001b[0m\n",
      "\u001b[2m\u001b[36m(RolloutWorker pid=12347)\u001b[0m   logger.warn(\n",
      "\u001b[2m\u001b[36m(RolloutWorker pid=12345)\u001b[0m /home/dibya/miniconda3/envs/real_world_deep_rl_cpu/lib/python3.9/site-packages/gym/spaces/box.py:73: UserWarning: \u001b[33mWARN: Box bound precision lowered by casting to float32\u001b[0m\n",
      "\u001b[2m\u001b[36m(RolloutWorker pid=12345)\u001b[0m   logger.warn(\n",
      "2023-08-10 20:35:13,423\tWARNING deprecation.py:45 -- DeprecationWarning: `simple_optimizer` has been deprecated. This will raise an error in the future!\n",
      "2023-08-10 20:35:13,470\tWARNING util.py:55 -- Install gputil for GPU system monitoring.\n",
      "2023-08-10 20:35:13,529\tINFO trainable.py:495 -- Restored on 192.168.0.16 from checkpoint: /home/dibya/Dropbox/programming_projects/inventory_management_rl_experiments/experiments_full_length/experiment_results/pbt/PPO_inventory_env_351d6_00003_3_sgd_minibatch_size=64,train_batch_size=512_2023-03-16_16-35-57/checkpoint_011300/checkpoint-11300\n",
      "2023-08-10 20:35:13,530\tINFO trainable.py:503 -- Current state after restoring: {'_iteration': 11300, '_timesteps_total': 16230400, '_time_total': 91218.1564540863, '_episodes_total': 180320}\n",
      "\u001b[2m\u001b[36m(RolloutWorker pid=12343)\u001b[0m /home/dibya/miniconda3/envs/real_world_deep_rl_cpu/lib/python3.9/site-packages/gym/spaces/box.py:73: UserWarning: \u001b[33mWARN: Box bound precision lowered by casting to float32\u001b[0m\n",
      "\u001b[2m\u001b[36m(RolloutWorker pid=12343)\u001b[0m   logger.warn(\n",
      "\u001b[2m\u001b[36m(RolloutWorker pid=12341)\u001b[0m /home/dibya/miniconda3/envs/real_world_deep_rl_cpu/lib/python3.9/site-packages/gym/spaces/box.py:73: UserWarning: \u001b[33mWARN: Box bound precision lowered by casting to float32\u001b[0m\n",
      "\u001b[2m\u001b[36m(RolloutWorker pid=12341)\u001b[0m   logger.warn(\n"
     ]
    }
   ],
   "source": [
    "from pathlib import Path\n",
    "\n",
    "from ray.rllib.agents.ppo import PPOTrainer\n",
    "from ray.tune import ExperimentAnalysis\n",
    "from ray.tune.registry import register_env\n",
    "\n",
    "from inventory_env.env_creator import inventory_env_creator\n",
    "\n",
    "register_env(\"inventory_env\", inventory_env_creator)\n",
    "\n",
    "path_to_results_dir = Path().absolute().parent / \"inventory_management_rl\" / \"experiments\" / \"experiment_results\" / \"pbt\"\n",
    "analysis = ExperimentAnalysis(path_to_results_dir, default_metric=\"evaluation/episode_reward_mean\", default_mode=\"max\")\n",
    "best_trial = analysis.get_best_trial(scope=\"all\")\n",
    "best_checkpoint = analysis.get_best_checkpoint(best_trial)\n",
    "config = best_trial.config\n",
    "agent = PPOTrainer(config=config)\n",
    "agent.restore(best_checkpoint)"
   ]
  },
  {
   "cell_type": "markdown",
   "id": "2a82a5fc-0476-4edf-813a-4ef4b05a27f5",
   "metadata": {},
   "source": [
    "## Measuring average performance using 100000 episodes and same seed"
   ]
  },
  {
   "cell_type": "code",
   "execution_count": 2,
   "id": "af30296f-9fcf-470c-9855-560a4a259af3",
   "metadata": {},
   "outputs": [
    {
     "name": "stderr",
     "output_type": "stream",
     "text": [
      "/home/dibya/miniconda3/envs/real_world_deep_rl_cpu/lib/python3.9/site-packages/gym/spaces/box.py:73: UserWarning: \u001b[33mWARN: Box bound precision lowered by casting to float32\u001b[0m\n",
      "  logger.warn(\n",
      "2023-08-10 20:36:08,534\tWARNING deprecation.py:45 -- DeprecationWarning: `compute_action` has been deprecated. Use `Trainer.compute_single_action()` instead. This will raise an error in the future!\n"
     ]
    },
    {
     "name": "stdout",
     "output_type": "stream",
     "text": [
      "178504.99510324348\n"
     ]
    }
   ],
   "source": [
    "import numpy as np\n",
    "\n",
    "env = inventory_env_creator(\n",
    "    {\n",
    "        \"obs_filter\": \"my_normalize\", \n",
    "        \"reward_filter\": None, \n",
    "    }, \n",
    "    seed=0\n",
    ")\n",
    "num_episodes = 100000\n",
    "all_r = []\n",
    "for _ in range(num_episodes):\n",
    "    obs = env.reset()\n",
    "    ep_r = 0\n",
    "    while True:\n",
    "        action = agent.compute_action(obs, unsquash_action=True)\n",
    "        obs, r, done, _ = env.step(np.around(action))\n",
    "        ep_r += r\n",
    "        if done:\n",
    "            break\n",
    "    all_r.append(ep_r)\n",
    "baseline = sum(all_r) / num_episodes\n",
    "print(baseline)"
   ]
  },
  {
   "cell_type": "markdown",
   "id": "0bdf5fd0-c0c5-48dd-aaa7-607fb8887863",
   "metadata": {},
   "source": [
    "## Population Based Training (PBT) lives up to its promise!\n",
    "\n",
    "- More stable training.\n",
    "- Higher performance."
   ]
  },
  {
   "cell_type": "code",
   "execution_count": null,
   "id": "baf9cc06-dec3-489e-9248-f489331a18df",
   "metadata": {},
   "outputs": [],
   "source": []
  }
 ],
 "metadata": {
  "kernelspec": {
   "display_name": "Python 3 (ipykernel)",
   "language": "python",
   "name": "python3"
  },
  "language_info": {
   "codemirror_mode": {
    "name": "ipython",
    "version": 3
   },
   "file_extension": ".py",
   "mimetype": "text/x-python",
   "name": "python",
   "nbconvert_exporter": "python",
   "pygments_lexer": "ipython3",
   "version": "3.9.13"
  }
 },
 "nbformat": 4,
 "nbformat_minor": 5
}
